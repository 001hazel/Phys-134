{
  "nbformat": 4,
  "nbformat_minor": 0,
  "metadata": {
    "colab": {
      "provenance": [],
      "authorship_tag": "ABX9TyOefmg9HtE8Dq6EOG7KCPqZ",
      "include_colab_link": true
    },
    "kernelspec": {
      "name": "python3",
      "display_name": "Python 3"
    },
    "language_info": {
      "name": "python"
    }
  },
  "cells": [
    {
      "cell_type": "markdown",
      "metadata": {
        "id": "view-in-github",
        "colab_type": "text"
      },
      "source": [
        "<a href=\"https://colab.research.google.com/github/001hazel/Phys-134/blob/main/Muon_Physics_Data_Analysis.ipynb\" target=\"_parent\"><img src=\"https://colab.research.google.com/assets/colab-badge.svg\" alt=\"Open In Colab\"/></a>"
      ]
    },
    {
      "cell_type": "code",
      "execution_count": null,
      "metadata": {
        "id": "RH0kUkRvqK4P"
      },
      "outputs": [],
      "source": []
    },
    {
      "cell_type": "markdown",
      "source": [
        "## Muon Lifetime Data Analysis\n",
        "\n",
        "In the experiment we measured detected lifetimes of muons moving through a scintillator. These measured lifetimes are to be binned into data and fitted to a model of the from:\n",
        "\n",
        "$ y(t_{j}) = Ae^{-t_{j}/τ} + B$"
      ],
      "metadata": {
        "id": "wx2HX_5tqQyn"
      }
    },
    {
      "cell_type": "code",
      "source": [
        "import numpy as np\n",
        "import matplotlib.pyplot as plt"
      ],
      "metadata": {
        "id": "Bgbu6J0Fq3Z8"
      },
      "execution_count": 2,
      "outputs": []
    },
    {
      "cell_type": "code",
      "source": [
        "from google.colab import files\n",
        "uploaded = files.upload()"
      ],
      "metadata": {
        "colab": {
          "base_uri": "https://localhost:8080/",
          "height": 73
        },
        "id": "Ds8B2LoQvEUa",
        "outputId": "b8bb56e6-0a73-4ac3-e56b-4f9298d19d7f"
      },
      "execution_count": 1,
      "outputs": [
        {
          "output_type": "display_data",
          "data": {
            "text/plain": [
              "<IPython.core.display.HTML object>"
            ],
            "text/html": [
              "\n",
              "     <input type=\"file\" id=\"files-0e61ce42-5a85-48ec-afca-cf1a784baf31\" name=\"files[]\" multiple disabled\n",
              "        style=\"border:none\" />\n",
              "     <output id=\"result-0e61ce42-5a85-48ec-afca-cf1a784baf31\">\n",
              "      Upload widget is only available when the cell has been executed in the\n",
              "      current browser session. Please rerun this cell to enable.\n",
              "      </output>\n",
              "      <script>// Copyright 2017 Google LLC\n",
              "//\n",
              "// Licensed under the Apache License, Version 2.0 (the \"License\");\n",
              "// you may not use this file except in compliance with the License.\n",
              "// You may obtain a copy of the License at\n",
              "//\n",
              "//      http://www.apache.org/licenses/LICENSE-2.0\n",
              "//\n",
              "// Unless required by applicable law or agreed to in writing, software\n",
              "// distributed under the License is distributed on an \"AS IS\" BASIS,\n",
              "// WITHOUT WARRANTIES OR CONDITIONS OF ANY KIND, either express or implied.\n",
              "// See the License for the specific language governing permissions and\n",
              "// limitations under the License.\n",
              "\n",
              "/**\n",
              " * @fileoverview Helpers for google.colab Python module.\n",
              " */\n",
              "(function(scope) {\n",
              "function span(text, styleAttributes = {}) {\n",
              "  const element = document.createElement('span');\n",
              "  element.textContent = text;\n",
              "  for (const key of Object.keys(styleAttributes)) {\n",
              "    element.style[key] = styleAttributes[key];\n",
              "  }\n",
              "  return element;\n",
              "}\n",
              "\n",
              "// Max number of bytes which will be uploaded at a time.\n",
              "const MAX_PAYLOAD_SIZE = 100 * 1024;\n",
              "\n",
              "function _uploadFiles(inputId, outputId) {\n",
              "  const steps = uploadFilesStep(inputId, outputId);\n",
              "  const outputElement = document.getElementById(outputId);\n",
              "  // Cache steps on the outputElement to make it available for the next call\n",
              "  // to uploadFilesContinue from Python.\n",
              "  outputElement.steps = steps;\n",
              "\n",
              "  return _uploadFilesContinue(outputId);\n",
              "}\n",
              "\n",
              "// This is roughly an async generator (not supported in the browser yet),\n",
              "// where there are multiple asynchronous steps and the Python side is going\n",
              "// to poll for completion of each step.\n",
              "// This uses a Promise to block the python side on completion of each step,\n",
              "// then passes the result of the previous step as the input to the next step.\n",
              "function _uploadFilesContinue(outputId) {\n",
              "  const outputElement = document.getElementById(outputId);\n",
              "  const steps = outputElement.steps;\n",
              "\n",
              "  const next = steps.next(outputElement.lastPromiseValue);\n",
              "  return Promise.resolve(next.value.promise).then((value) => {\n",
              "    // Cache the last promise value to make it available to the next\n",
              "    // step of the generator.\n",
              "    outputElement.lastPromiseValue = value;\n",
              "    return next.value.response;\n",
              "  });\n",
              "}\n",
              "\n",
              "/**\n",
              " * Generator function which is called between each async step of the upload\n",
              " * process.\n",
              " * @param {string} inputId Element ID of the input file picker element.\n",
              " * @param {string} outputId Element ID of the output display.\n",
              " * @return {!Iterable<!Object>} Iterable of next steps.\n",
              " */\n",
              "function* uploadFilesStep(inputId, outputId) {\n",
              "  const inputElement = document.getElementById(inputId);\n",
              "  inputElement.disabled = false;\n",
              "\n",
              "  const outputElement = document.getElementById(outputId);\n",
              "  outputElement.innerHTML = '';\n",
              "\n",
              "  const pickedPromise = new Promise((resolve) => {\n",
              "    inputElement.addEventListener('change', (e) => {\n",
              "      resolve(e.target.files);\n",
              "    });\n",
              "  });\n",
              "\n",
              "  const cancel = document.createElement('button');\n",
              "  inputElement.parentElement.appendChild(cancel);\n",
              "  cancel.textContent = 'Cancel upload';\n",
              "  const cancelPromise = new Promise((resolve) => {\n",
              "    cancel.onclick = () => {\n",
              "      resolve(null);\n",
              "    };\n",
              "  });\n",
              "\n",
              "  // Wait for the user to pick the files.\n",
              "  const files = yield {\n",
              "    promise: Promise.race([pickedPromise, cancelPromise]),\n",
              "    response: {\n",
              "      action: 'starting',\n",
              "    }\n",
              "  };\n",
              "\n",
              "  cancel.remove();\n",
              "\n",
              "  // Disable the input element since further picks are not allowed.\n",
              "  inputElement.disabled = true;\n",
              "\n",
              "  if (!files) {\n",
              "    return {\n",
              "      response: {\n",
              "        action: 'complete',\n",
              "      }\n",
              "    };\n",
              "  }\n",
              "\n",
              "  for (const file of files) {\n",
              "    const li = document.createElement('li');\n",
              "    li.append(span(file.name, {fontWeight: 'bold'}));\n",
              "    li.append(span(\n",
              "        `(${file.type || 'n/a'}) - ${file.size} bytes, ` +\n",
              "        `last modified: ${\n",
              "            file.lastModifiedDate ? file.lastModifiedDate.toLocaleDateString() :\n",
              "                                    'n/a'} - `));\n",
              "    const percent = span('0% done');\n",
              "    li.appendChild(percent);\n",
              "\n",
              "    outputElement.appendChild(li);\n",
              "\n",
              "    const fileDataPromise = new Promise((resolve) => {\n",
              "      const reader = new FileReader();\n",
              "      reader.onload = (e) => {\n",
              "        resolve(e.target.result);\n",
              "      };\n",
              "      reader.readAsArrayBuffer(file);\n",
              "    });\n",
              "    // Wait for the data to be ready.\n",
              "    let fileData = yield {\n",
              "      promise: fileDataPromise,\n",
              "      response: {\n",
              "        action: 'continue',\n",
              "      }\n",
              "    };\n",
              "\n",
              "    // Use a chunked sending to avoid message size limits. See b/62115660.\n",
              "    let position = 0;\n",
              "    do {\n",
              "      const length = Math.min(fileData.byteLength - position, MAX_PAYLOAD_SIZE);\n",
              "      const chunk = new Uint8Array(fileData, position, length);\n",
              "      position += length;\n",
              "\n",
              "      const base64 = btoa(String.fromCharCode.apply(null, chunk));\n",
              "      yield {\n",
              "        response: {\n",
              "          action: 'append',\n",
              "          file: file.name,\n",
              "          data: base64,\n",
              "        },\n",
              "      };\n",
              "\n",
              "      let percentDone = fileData.byteLength === 0 ?\n",
              "          100 :\n",
              "          Math.round((position / fileData.byteLength) * 100);\n",
              "      percent.textContent = `${percentDone}% done`;\n",
              "\n",
              "    } while (position < fileData.byteLength);\n",
              "  }\n",
              "\n",
              "  // All done.\n",
              "  yield {\n",
              "    response: {\n",
              "      action: 'complete',\n",
              "    }\n",
              "  };\n",
              "}\n",
              "\n",
              "scope.google = scope.google || {};\n",
              "scope.google.colab = scope.google.colab || {};\n",
              "scope.google.colab._files = {\n",
              "  _uploadFiles,\n",
              "  _uploadFilesContinue,\n",
              "};\n",
              "})(self);\n",
              "</script> "
            ]
          },
          "metadata": {}
        },
        {
          "output_type": "stream",
          "name": "stdout",
          "text": [
            "Saving trial 1.csv to trial 1.csv\n"
          ]
        }
      ]
    },
    {
      "cell_type": "code",
      "source": [
        "data = np.loadtxt('trial 1.csv')"
      ],
      "metadata": {
        "id": "97cERFk3vrsL"
      },
      "execution_count": 3,
      "outputs": []
    },
    {
      "cell_type": "code",
      "source": [
        "print(data)"
      ],
      "metadata": {
        "colab": {
          "base_uri": "https://localhost:8080/"
        },
        "id": "Zh0vR-aWw9sv",
        "outputId": "f27366b0-a799-4f87-b780-661dd75bde71"
      },
      "execution_count": null,
      "outputs": [
        {
          "output_type": "stream",
          "name": "stdout",
          "text": [
            "[ 580. 7940. 2240. ...  980.  160. 4600.]\n"
          ]
        }
      ]
    },
    {
      "cell_type": "code",
      "source": [
        "plt.figure(1,figsize=(12,6))\n",
        "#plt.hist(data/1000,bins=20,range=(0,20))\n",
        "plt.xticks(np.linspace(0,20,21))\n",
        "bins,edges,bars = plt.hist(data/1000,bins=20,range=(0,20))\n",
        "plt.bar_label(bars)\n",
        "plt.plot(bincenters,fit_data,color='r',label = r'$y={:.2f}e^{{(-x/{:.2f})}}+{:.2f}$'.format(params[0],params[2],params[1]))\n",
        "plt.legend()\n",
        "plt.title('Muon Count vs Measured Lifetime')\n",
        "plt.xlabel('Muon Lifetime ($\\mu$s)')\n",
        "plt.ylabel('Muon Count')\n",
        "plt.show(1)\n"
      ],
      "metadata": {
        "colab": {
          "base_uri": "https://localhost:8080/",
          "height": 568
        },
        "id": "OWVL4Eo5w_jA",
        "outputId": "934fa1ea-748c-4b14-dc5c-3e4725dd0691"
      },
      "execution_count": 63,
      "outputs": [
        {
          "output_type": "display_data",
          "data": {
            "text/plain": [
              "<Figure size 1200x600 with 1 Axes>"
            ],
            "image/png": "[encoded data removed]"
          },
          "metadata": {}
        }
      ]
    },
    {
      "cell_type": "code",
      "source": [
        "print(bins)"
      ],
      "metadata": {
        "colab": {
          "base_uri": "https://localhost:8080/"
        },
        "id": "6ktaz_b3zZRJ",
        "outputId": "0fb7f90f-442f-4968-f3c6-bac23fa50e40"
      },
      "execution_count": 54,
      "outputs": [
        {
          "output_type": "stream",
          "name": "stdout",
          "text": [
            "[2841. 1987. 1207.  735.  472.  306.  186.  130.   78.   47.   49.   32.\n",
            "   20.   19.   10.   11.   13.   10.    7.    9.]\n"
          ]
        }
      ]
    },
    {
      "cell_type": "code",
      "source": [
        "print(edges)"
      ],
      "metadata": {
        "colab": {
          "base_uri": "https://localhost:8080/"
        },
        "id": "2bRocLqw3sVg",
        "outputId": "f6325bb7-4cea-4d18-ab48-632a56b91c01"
      },
      "execution_count": null,
      "outputs": [
        {
          "output_type": "stream",
          "name": "stdout",
          "text": [
            "[ 0.  1.  2.  3.  4.  5.  6.  7.  8.  9. 10. 11. 12. 13. 14. 15. 16. 17.\n",
            " 18. 19. 20.]\n"
          ]
        }
      ]
    },
    {
      "cell_type": "code",
      "source": [
        "bincenters = (edges[1:]+edges[:-1])/2\n",
        "print(bincenters)"
      ],
      "metadata": {
        "id": "Owo4ncZK3u-P",
        "colab": {
          "base_uri": "https://localhost:8080/"
        },
        "outputId": "4ed8e059-9796-40a3-a372-97e5117f0578"
      },
      "execution_count": 5,
      "outputs": [
        {
          "output_type": "stream",
          "name": "stdout",
          "text": [
            "[ 0.5  1.5  2.5  3.5  4.5  5.5  6.5  7.5  8.5  9.5 10.5 11.5 12.5 13.5\n",
            " 14.5 15.5 16.5 17.5 18.5 19.5]\n"
          ]
        }
      ]
    },
    {
      "cell_type": "code",
      "source": [
        "import scipy.optimize\n",
        "import scipy as sp\n",
        "import scipy.stats as stat"
      ],
      "metadata": {
        "id": "9klYwpWJ8E-x"
      },
      "execution_count": 7,
      "outputs": []
    },
    {
      "cell_type": "code",
      "source": [
        "def fitmodel(x,A,B,Tau):\n",
        "  return A*np.exp(-1*x/Tau)+B\n",
        "\n",
        "params,covariance = scipy.optimize.curve_fit(fitmodel,bincenters,bins,p0=None,)\n",
        "\n"
      ],
      "metadata": {
        "id": "nQmzYun_7xzY"
      },
      "execution_count": 29,
      "outputs": []
    },
    {
      "cell_type": "code",
      "source": [
        "fit_data = fitmodel(bincenters,*params)"
      ],
      "metadata": {
        "id": "4TWESjoB8EYq"
      },
      "execution_count": 30,
      "outputs": []
    },
    {
      "cell_type": "code",
      "source": [
        "print(params)"
      ],
      "metadata": {
        "colab": {
          "base_uri": "https://localhost:8080/"
        },
        "id": "7hW10zLb_EAm",
        "outputId": "b461f89e-36a0-4898-b4c8-4b9c9c709667"
      },
      "execution_count": 39,
      "outputs": [
        {
          "output_type": "stream",
          "name": "stdout",
          "text": [
            "[3.60649402e+03 5.23282011e-01 2.28069746e+00]\n"
          ]
        }
      ]
    },
    {
      "cell_type": "markdown",
      "source": [
        "Here we are estimating the background, by fitting times greater than $5 \\tau$ to a constant, then subtracting that number from all the bins."
      ],
      "metadata": {
        "id": "zfbArN6wMHei"
      }
    },
    {
      "cell_type": "code",
      "source": [
        "params[2]*5"
      ],
      "metadata": {
        "colab": {
          "base_uri": "https://localhost:8080/"
        },
        "id": "CPtz2RRgCcaR",
        "outputId": "df57ee5e-9393-4af2-bd03-80466e625f80"
      },
      "execution_count": 55,
      "outputs": [
        {
          "output_type": "execute_result",
          "data": {
            "text/plain": [
              "11.403487292398776"
            ]
          },
          "metadata": {},
          "execution_count": 55
        }
      ]
    },
    {
      "cell_type": "code",
      "source": [
        "\n",
        "def constant(x,A):\n",
        "  return A\n",
        "\n",
        "background,back_covar = scipy.optimize.curve_fit(constant,bincenters[11:],bins[11:])\n",
        "print(background)"
      ],
      "metadata": {
        "id": "fbNX9ulhL305",
        "outputId": "476c346c-f290-47e6-b713-c89772be9b8c",
        "colab": {
          "base_uri": "https://localhost:8080/"
        }
      },
      "execution_count": 59,
      "outputs": [
        {
          "output_type": "stream",
          "name": "stdout",
          "text": [
            "[14.55555556]\n"
          ]
        }
      ]
    },
    {
      "cell_type": "code",
      "source": [
        "print(bins)\n",
        "new_bins = bins-background\n",
        "print(new_bins)\n",
        "new_bins = [x if x>0 else 0 for x in new_bins]\n",
        "print(new_bins)"
      ],
      "metadata": {
        "id": "RSUJQcXXMbYG",
        "outputId": "2d0ed217-c198-4d6e-fc31-37117a418f3a",
        "colab": {
          "base_uri": "https://localhost:8080/"
        }
      },
      "execution_count": 68,
      "outputs": [
        {
          "output_type": "stream",
          "name": "stdout",
          "text": [
            "[2841. 1987. 1207.  735.  472.  306.  186.  130.   78.   47.   49.   32.\n",
            "   20.   19.   10.   11.   13.   10.    7.    9.]\n",
            "[ 2.82644444e+03  1.97244444e+03  1.19244444e+03  7.20444444e+02\n",
            "  4.57444444e+02  2.91444444e+02  1.71444444e+02  1.15444444e+02\n",
            "  6.34444444e+01  3.24444444e+01  3.44444444e+01  1.74444444e+01\n",
            "  5.44444444e+00  4.44444444e+00 -4.55555556e+00 -3.55555556e+00\n",
            " -1.55555556e+00 -4.55555556e+00 -7.55555556e+00 -5.55555556e+00]\n",
            "[2826.444444444415, 1972.4444444444148, 1192.4444444444148, 720.4444444444149, 457.4444444444149, 291.4444444444149, 171.44444444441487, 115.44444444441487, 63.44444444441488, 32.44444444441488, 34.44444444441488, 17.444444444414877, 5.444444444414875, 4.444444444414875, 0, 0, 0, 0, 0, 0]\n"
          ]
        }
      ]
    },
    {
      "cell_type": "code",
      "source": [
        "\n",
        "new_param, new_covar = scipy.optimize.curve_fit(fitmodel,bincenters,new_bins)\n",
        "print(new_param)\n",
        "5*new_param[2]"
      ],
      "metadata": {
        "id": "hXy5pTdoPSbC",
        "outputId": "1fa7133d-72dd-4016-b4e2-ef643250e75b",
        "colab": {
          "base_uri": "https://localhost:8080/"
        }
      },
      "execution_count": 71,
      "outputs": [
        {
          "output_type": "stream",
          "name": "stdout",
          "text": [
            "[ 3.60655205e+03 -1.15809912e+01  2.27468529e+00]\n"
          ]
        },
        {
          "output_type": "execute_result",
          "data": {
            "text/plain": [
              "11.373426454772664"
            ]
          },
          "metadata": {},
          "execution_count": 71
        }
      ]
    },
    {
      "cell_type": "code",
      "source": [
        "background_2,back_covar_2 = scipy.optimize.curve_fit(constant,bincenters[11:],new_bins[11:])\n",
        "new_bins = new_bins - background_2\n",
        "new_bins = [x if x>0 else 0 for x in new_bins]\n",
        "new_param,new_covar = scipy.optimize.curve_fit(fitmodel,bincenters,new_bins)\n",
        "print(5*new_param[2])"
      ],
      "metadata": {
        "id": "tvLoVxuIP9yA",
        "outputId": "2da2e4ca-7213-4d4c-8e8b-6f3a2c61d432",
        "colab": {
          "base_uri": "https://localhost:8080/"
        }
      },
      "execution_count": 73,
      "outputs": [
        {
          "output_type": "stream",
          "name": "stdout",
          "text": [
            "11.353636808689512\n"
          ]
        }
      ]
    },
    {
      "cell_type": "code",
      "source": [
        "background_3,back_covar_3 = scipy.optimize.curve_fit(constant,bincenters[11:],new_bins[11:])\n",
        "new_bins = new_bins - background_3\n",
        "new_bins = [x if x>0 else 0 for x in new_bins]\n",
        "new_param,new_covar = scipy.optimize.curve_fit(fitmodel,bincenters,new_bins)\n"
      ],
      "metadata": {
        "id": "BEuT8-1xTRBY"
      },
      "execution_count": 74,
      "outputs": []
    },
    {
      "cell_type": "code",
      "source": [
        "plt.figure(2,figsize=(12,6))\n",
        "model_curve = fitmodel(bincenters,*new_param)\n",
        "bargraph = plt.bar(bincenters,new_bins,width=1)\n",
        "plt.xticks(np.linspace(0,20,21))\n",
        "plt.bar_label(bargraph,np.around(np.asarray(new_bins)))\n",
        "plt.plot(bincenters,model_curve,color='r')\n",
        "\n",
        "plt.show(2)"
      ],
      "metadata": {
        "id": "zdLgLt0LT5Ve",
        "outputId": "f89c80f6-5bfa-4e18-9473-210063da83ad",
        "colab": {
          "base_uri": "https://localhost:8080/",
          "height": 524
        }
      },
      "execution_count": 93,
      "outputs": [
        {
          "output_type": "display_data",
          "data": {
            "text/plain": [
              "<Figure size 1200x600 with 1 Axes>"
            ],
            "image/png": "[encoded data removed]"
          },
          "metadata": {}
        }
      ]
    },
    {
      "cell_type": "code",
      "source": [],
      "metadata": {
        "id": "7JoRaXxlUbCp"
      },
      "execution_count": null,
      "outputs": []
    }
  ]
}