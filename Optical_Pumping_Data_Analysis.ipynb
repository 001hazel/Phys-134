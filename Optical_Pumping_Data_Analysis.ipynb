{
  "nbformat": 4,
  "nbformat_minor": 0,
  "metadata": {
    "colab": {
      "provenance": [],
      "authorship_tag": "ABX9TyPOI8ZpoK20Nb0V52dsjg41",
      "include_colab_link": true
    },
    "kernelspec": {
      "name": "python3",
      "display_name": "Python 3"
    },
    "language_info": {
      "name": "python"
    }
  },
  "cells": [
    {
      "cell_type": "markdown",
      "metadata": {
        "id": "view-in-github",
        "colab_type": "text"
      },
      "source": [
        "<a href=\"https://colab.research.google.com/github/001hazel/Phys-134/blob/main/Optical_Pumping_Data_Analysis.ipynb\" target=\"_parent\"><img src=\"https://colab.research.google.com/assets/colab-badge.svg\" alt=\"Open In Colab\"/></a>"
      ]
    },
    {
      "cell_type": "markdown",
      "source": [
        "## Optical Pumping Lab"
      ],
      "metadata": {
        "id": "6seyF045z3sN"
      }
    },
    {
      "cell_type": "markdown",
      "source": [
        "### Low Field Zeeman Effect"
      ],
      "metadata": {
        "id": "X6WtKFFVz_6T"
      }
    },
    {
      "cell_type": "code",
      "source": [
        "import numpy as np\n",
        "import matplotlib.pyplot as plt\n",
        "import scipy.optimize\n",
        "import scipy as sp\n",
        "import scipy.stats as stats"
      ],
      "metadata": {
        "id": "KofgE6yHz-94"
      },
      "execution_count": 1,
      "outputs": []
    },
    {
      "cell_type": "markdown",
      "source": [
        "Data and associated error"
      ],
      "metadata": {
        "id": "X8XlFLzmxlr6"
      }
    },
    {
      "cell_type": "code",
      "source": [
        "frequency = np.array([0, 0.10427, 0.11426, 0.12446, 0.13406, 0.14409, 0.15471, 0.16469, 0.17450, 0.18410])\n",
        "voltage_1 = np.array([0.360, 0.612, 0.624, 0.646, 0.672, 0.700, 0.728, 0.744, 0.772, 0.796])\n",
        "error_1 = np.array([0.008, 0.009, 0.009, 0.009, 0.008, 0.012, 0.012, 0.010, 0.016, 0.012])\n",
        "voltage_2 = np.array([0.360, 0.730, 0.754, 0.794, 0.832, 0.868, 0.912, 0.948, 0.968, 1.000])\n",
        "error_2 = np.array([0.008, 0.010, 0.009, 0.012, 0.012, 0.012, 0.024, 0.018, 0.014, 0.016])"
      ],
      "metadata": {
        "id": "tnW1HH3Z0o7x"
      },
      "execution_count": 8,
      "outputs": []
    },
    {
      "cell_type": "markdown",
      "source": [
        "Linear model"
      ],
      "metadata": {
        "id": "nS9-KRk3xpLb"
      }
    },
    {
      "cell_type": "code",
      "source": [
        "def linear(x,A,B):\n",
        "  return A*x + B"
      ],
      "metadata": {
        "id": "jZOtyLL22kN4"
      },
      "execution_count": 3,
      "outputs": []
    },
    {
      "cell_type": "markdown",
      "source": [
        "Fit curves of resonances"
      ],
      "metadata": {
        "id": "asFzRgVhxsYY"
      }
    },
    {
      "cell_type": "code",
      "source": [
        "params_1,covariance_1 = scipy.optimize.curve_fit(linear,voltage_1,frequency,sigma=error_1,absolute_sigma=True)\n",
        "params_2,covariance_2 = scipy.optimize.curve_fit(linear,voltage_2,frequency,sigma=error_2,absolute_sigma=True)"
      ],
      "metadata": {
        "id": "gqVf9xK75KV1"
      },
      "execution_count": 9,
      "outputs": []
    },
    {
      "cell_type": "code",
      "source": [
        "params_1"
      ],
      "metadata": {
        "colab": {
          "base_uri": "https://localhost:8080/"
        },
        "id": "tIYWKamm655J",
        "outputId": "aef924d1-e754-409c-bda4-bb92580b973e"
      },
      "execution_count": null,
      "outputs": [
        {
          "output_type": "execute_result",
          "data": {
            "text/plain": [
              "array([ 0.42530416, -0.15281536])"
            ]
          },
          "metadata": {},
          "execution_count": 50
        }
      ]
    },
    {
      "cell_type": "markdown",
      "source": [
        "Model based on fit parameters"
      ],
      "metadata": {
        "id": "H1HzuHxmx7JX"
      }
    },
    {
      "cell_type": "code",
      "source": [
        "\n",
        "model_1 = linear(voltage_1,*params_1)\n",
        "model_2 = linear(voltage_2,*params_2)"
      ],
      "metadata": {
        "id": "bWpU05Tw51bl"
      },
      "execution_count": 10,
      "outputs": []
    },
    {
      "cell_type": "markdown",
      "source": [
        "Plot of the resonances as function of current"
      ],
      "metadata": {
        "id": "KLZx00Eqx_lv"
      }
    },
    {
      "cell_type": "code",
      "source": [
        "plt.figure()\n",
        "plt.plot(voltage_1,model_1,color='blue')\n",
        "plt.plot(voltage_2,model_2,color='blue')\n",
        "plt.scatter(voltage_1,frequency,marker='o',color='red')\n",
        "#plt.errorbar(voltage_1,frequency,xerr=error_1,fmt='o',color='red')\n",
        "plt.scatter(voltage_2,frequency,marker='^',color='red')\n",
        "#plt.errorbar(voltage_2,frequency,xerr=error_2,fmt='^',color='red')\n",
        "plt.title('Resonance of Two Isotopes (Amp vs Frequency)')\n",
        "plt.show()"
      ],
      "metadata": {
        "colab": {
          "base_uri": "https://localhost:8080/",
          "height": 452
        },
        "id": "K_fZ4jH03I0M",
        "outputId": "569af339-9918-4c36-a5d0-5683029e1876"
      },
      "execution_count": 11,
      "outputs": [
        {
          "output_type": "display_data",
          "data": {
            "text/plain": [
              "<Figure size 640x480 with 1 Axes>"
            ],
            "image/png": "[encoded data removed]"
          },
          "metadata": {}
        }
      ]
    },
    {
      "cell_type": "markdown",
      "source": [
        "Ratio of the slopes"
      ],
      "metadata": {
        "id": "6WuHP6FAyII9"
      }
    },
    {
      "cell_type": "code",
      "source": [
        "print(params_1[0],'/',params_2[0],'=',params_1[0]/params_2[0])"
      ],
      "metadata": {
        "colab": {
          "base_uri": "https://localhost:8080/"
        },
        "id": "dQOH0NY94fvY",
        "outputId": "d55dd780-981e-447a-b92a-339f8c285e8a"
      },
      "execution_count": 12,
      "outputs": [
        {
          "output_type": "stream",
          "name": "stdout",
          "text": [
            "0.4253041586191716 / 0.2851453648642063 = 1.491534532997626\n"
          ]
        }
      ]
    },
    {
      "cell_type": "markdown",
      "source": [
        "Measure of the residual field, based on the center of the zero field resonance"
      ],
      "metadata": {
        "id": "i9jhsfm6yOR6"
      }
    },
    {
      "cell_type": "code",
      "source": [
        "residual = 8.991*10**-3*0.360*11/0.1639\n",
        "print(residual)"
      ],
      "metadata": {
        "colab": {
          "base_uri": "https://localhost:8080/"
        },
        "id": "pS9SuQOa7Md0",
        "outputId": "aea3ff70-3e3d-44d9-d85a-7c3fdb9d6f0e"
      },
      "execution_count": 5,
      "outputs": [
        {
          "output_type": "stream",
          "name": "stdout",
          "text": [
            "0.21723221476510066\n"
          ]
        }
      ]
    },
    {
      "cell_type": "markdown",
      "source": [
        "Calculating g-factors. Values for magnetic fields obtained from geometry of the coils at 134 kHz "
      ],
      "metadata": {
        "id": "1orwAmjyzL70"
      }
    },
    {
      "cell_type": "code",
      "source": [
        "B1 = 8.991*10**-3*0.672*11/0.1639\n",
        "B2 = 8.991*10**-3*11*0.832/0.1639\n",
        "B1 = B1-residual\n",
        "B2 = B2-residual\n",
        "g_f1 = 0.13406/(B1*1.3996)\n",
        "g_f2 = 0.13406/(B2*1.3996)\n",
        "print(B1,B2)\n",
        "print('g factors are',g_f1,g_f2)"
      ],
      "metadata": {
        "colab": {
          "base_uri": "https://localhost:8080/"
        },
        "id": "9XKAGgLR9big",
        "outputId": "4e9bcd5e-a635-402a-a91c-1a692932d3a5"
      },
      "execution_count": 6,
      "outputs": [
        {
          "output_type": "stream",
          "name": "stdout",
          "text": [
            "0.18826791946308727 0.28481557046979855\n",
            "g factors are 0.5087670280370841 0.3363036287024795\n"
          ]
        }
      ]
    },
    {
      "cell_type": "code",
      "source": [
        "def mag_field(f,g):\n",
        "  return f/(g*1.3996)"
      ],
      "metadata": {
        "id": "yn1dg_su_vog"
      },
      "execution_count": 2,
      "outputs": []
    },
    {
      "cell_type": "markdown",
      "source": [
        "Obtaining linear relation between sweep field magnitude and current through sweep coils"
      ],
      "metadata": {
        "id": "r-H_cbrKyn8Y"
      }
    },
    {
      "cell_type": "code",
      "source": [
        "sweep_field = mag_field(frequency,g_f1)\n",
        "\n",
        "params_3,covariance_3 = scipy.optimize.curve_fit(linear,voltage_1,sweep_field,sigma=error_1,absolute_sigma=True)\n",
        "\n",
        "sweep_line = linear(voltage_1,*params_3)"
      ],
      "metadata": {
        "id": "9gqh7yz6B55U"
      },
      "execution_count": 13,
      "outputs": []
    },
    {
      "cell_type": "code",
      "source": [
        "plt.figure()\n",
        "plt.plot(voltage_1,sweep_line,color='blue')\n",
        "plt.scatter(voltage_1,sweep_field,marker='^',color='red')\n",
        "plt.title('Sweep Field as a Function of Current')\n",
        "plt.show()"
      ],
      "metadata": {
        "colab": {
          "base_uri": "https://localhost:8080/",
          "height": 452
        },
        "id": "EVpIrbghIaWC",
        "outputId": "503e471b-1a9c-436f-dd02-e4cc1ed62aa4"
      },
      "execution_count": 14,
      "outputs": [
        {
          "output_type": "display_data",
          "data": {
            "text/plain": [
              "<Figure size 640x480 with 1 Axes>"
            ],
            "image/png": "[encoded data removed]"
          },
          "metadata": {}
        }
      ]
    },
    {
      "cell_type": "code",
      "source": [
        "params_3"
      ],
      "metadata": {
        "colab": {
          "base_uri": "https://localhost:8080/"
        },
        "id": "R3zy1rotItnc",
        "outputId": "5a8f9edf-be09-4ea0-cb1a-b287d2dd30a7"
      },
      "execution_count": 15,
      "outputs": [
        {
          "output_type": "execute_result",
          "data": {
            "text/plain": [
              "array([ 0.5972783 , -0.21460712])"
            ]
          },
          "metadata": {},
          "execution_count": 15
        }
      ]
    },
    {
      "cell_type": "markdown",
      "source": [
        "Calculating contribution of main field, finding linear relation with current"
      ],
      "metadata": {
        "id": "sOx3bMxQ17cN"
      }
    },
    {
      "cell_type": "code",
      "source": [
        "frequency_2 = np.array([200.11,301.86,403.64,502.74,601.50,706.55,804.59,903.88])\n",
        "sweep_current = np.array([0.664,0.736,0.816,0.776,0.656,0.688,0.856,0.736])\n",
        "main_current = np.array([0.028,0.048,0.068,0.098,0.128,0.152,0.164,0.198])\n",
        "expected_field = mag_field(frequency_2,g_f2)/1000\n",
        "sweep_field = linear(sweep_current,*params_3)\n",
        "main_field = expected_field - sweep_field\n",
        "error_3 = np.ones(np.shape(main_current))*0.012\n"
      ],
      "metadata": {
        "id": "NXoOPYSwJUyQ"
      },
      "execution_count": 16,
      "outputs": []
    },
    {
      "cell_type": "code",
      "source": [
        "print(expected_field)"
      ],
      "metadata": {
        "id": "sJUnHUG76Qj5",
        "outputId": "551ec115-3672-4803-ea63-056c533ddfa6",
        "colab": {
          "base_uri": "https://localhost:8080/"
        }
      },
      "execution_count": 17,
      "outputs": [
        {
          "output_type": "stream",
          "name": "stdout",
          "text": [
            "[0.42514131 0.64131305 0.85754854 1.06809026 1.27790963 1.50109236\n",
            " 1.70938207 1.92032745]\n"
          ]
        }
      ]
    },
    {
      "cell_type": "code",
      "source": [
        "params_4, covariance_4 = scipy.optimize.curve_fit(linear,main_current,main_field,sigma=error_3,absolute_sigma=True)"
      ],
      "metadata": {
        "id": "uLemj5lD16ZD"
      },
      "execution_count": 18,
      "outputs": []
    },
    {
      "cell_type": "code",
      "source": [
        "main_line = linear(main_current,*params_4)"
      ],
      "metadata": {
        "id": "LDDxMrQA5QDt"
      },
      "execution_count": 19,
      "outputs": []
    },
    {
      "cell_type": "code",
      "source": [
        "plt.figure()\n",
        "plt.plot(main_current,main_line,color='blue')\n",
        "plt.scatter(main_current,main_field,marker='^',color='red')\n",
        "plt.show()"
      ],
      "metadata": {
        "id": "tpJDKR995ZG6",
        "outputId": "12a9103f-47d8-43da-8750-b91d0c9fa668",
        "colab": {
          "base_uri": "https://localhost:8080/",
          "height": 430
        }
      },
      "execution_count": 20,
      "outputs": [
        {
          "output_type": "display_data",
          "data": {
            "text/plain": [
              "<Figure size 640x480 with 1 Axes>"
            ],
            "image/png": "[encoded data removed]"
          },
          "metadata": {}
        }
      ]
    },
    {
      "cell_type": "code",
      "source": [
        "print(params_4)"
      ],
      "metadata": {
        "id": "mMXbH3om6C33",
        "outputId": "8961a982-e3c1-4fe0-8219-0262e948bafc",
        "colab": {
          "base_uri": "https://localhost:8080/"
        }
      },
      "execution_count": 21,
      "outputs": [
        {
          "output_type": "stream",
          "name": "stdout",
          "text": [
            "[8.57026296e+00 1.10423574e-04]\n"
          ]
        }
      ]
    },
    {
      "cell_type": "markdown",
      "source": [
        "### Quadratic Zeeman effect"
      ],
      "metadata": {
        "id": "LFlnfkxN9-d1"
      }
    },
    {
      "cell_type": "markdown",
      "source": [
        "Obtaining total fields for Rb 87 at a frequency of 4.99931 MHz, main field current of 0.8 amps"
      ],
      "metadata": {
        "id": "16FLp2SB-F7i"
      }
    },
    {
      "cell_type": "code",
      "source": [
        "sweep_current_87 = np.array([0.744,0.768,0.784,0.800])\n",
        "main_field_87 = params_4[0]*0.8\n",
        "sweep_field_87 = linear(sweep_current_87,*params_3)\n",
        "total_field_87 = sweep_field_87 + main_field_87\n",
        "print(total_field_87)"
      ],
      "metadata": {
        "id": "Aqb7rQqL6GJr",
        "outputId": "b69f02bc-8f70-491e-f48b-0f4e165323bb",
        "colab": {
          "base_uri": "https://localhost:8080/"
        }
      },
      "execution_count": 22,
      "outputs": [
        {
          "output_type": "stream",
          "name": "stdout",
          "text": [
            "[7.08597831 7.10031299 7.10986944 7.11942589]\n"
          ]
        }
      ]
    },
    {
      "cell_type": "markdown",
      "source": [
        "Obtaining total fields for Rb 85 at a frequency of 3.34 MHz, main field current of 0.8 amps"
      ],
      "metadata": {
        "id": "oRmq2PDYyvXj"
      }
    },
    {
      "cell_type": "code",
      "source": [
        "sweep_current_85 = np.array([0.736,0.768,0.784,0.816,0.848,0.864])\n",
        "sweep_field_85 = linear(sweep_current_85,*params_3)\n",
        "total_field_85 = sweep_field_85 + main_field_87\n",
        "print(total_field_85)"
      ],
      "metadata": {
        "id": "jrb8UmtFAHFJ",
        "outputId": "cf5aaeb8-cb9c-4636-b189-b59ded78e9cd",
        "colab": {
          "base_uri": "https://localhost:8080/"
        }
      },
      "execution_count": 23,
      "outputs": [
        {
          "output_type": "stream",
          "name": "stdout",
          "text": [
            "[7.08120008 7.10031299 7.10986944 7.12898234 7.14809525 7.1576517 ]\n"
          ]
        }
      ]
    },
    {
      "cell_type": "code",
      "source": [],
      "metadata": {
        "id": "8Ez6Bbv10dCj"
      },
      "execution_count": null,
      "outputs": []
    }
  ]
}