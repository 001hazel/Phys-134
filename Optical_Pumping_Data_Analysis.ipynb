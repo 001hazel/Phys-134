{
  "nbformat": 4,
  "nbformat_minor": 0,
  "metadata": {
    "colab": {
      "provenance": [],
      "authorship_tag": "ABX9TyMpL6N/OAJCy5iOzytetPI0",
      "include_colab_link": true
    },
    "kernelspec": {
      "name": "python3",
      "display_name": "Python 3"
    },
    "language_info": {
      "name": "python"
    }
  },
  "cells": [
    {
      "cell_type": "markdown",
      "metadata": {
        "id": "view-in-github",
        "colab_type": "text"
      },
      "source": [
        "<a href=\"https://colab.research.google.com/github/001hazel/Phys-134/blob/main/Optical_Pumping_Data_Analysis.ipynb\" target=\"_parent\"><img src=\"https://colab.research.google.com/assets/colab-badge.svg\" alt=\"Open In Colab\"/></a>"
      ]
    },
    {
      "cell_type": "markdown",
      "source": [
        "## Optical Pumping Lab"
      ],
      "metadata": {
        "id": "6seyF045z3sN"
      }
    },
    {
      "cell_type": "markdown",
      "source": [
        "### Low Field Zeeman Effect"
      ],
      "metadata": {
        "id": "X6WtKFFVz_6T"
      }
    },
    {
      "cell_type": "code",
      "source": [
        "import numpy as np\n",
        "import matplotlib.pyplot as plt\n",
        "import scipy.optimize\n",
        "import scipy as sp\n",
        "import scipy.stats as stats\n",
        "from google.colab import files"
      ],
      "metadata": {
        "id": "KofgE6yHz-94"
      },
      "execution_count": 2,
      "outputs": []
    },
    {
      "cell_type": "markdown",
      "source": [
        "Data and associated error"
      ],
      "metadata": {
        "id": "X8XlFLzmxlr6"
      }
    },
    {
      "cell_type": "code",
      "source": [
        "frequency = np.array([0, 0.10427, 0.11426, 0.12446, 0.13406, 0.14409, 0.15471, 0.16469, 0.17450, 0.18410])\n",
        "voltage_1 = np.array([0.360, 0.612, 0.624, 0.646, 0.672, 0.700, 0.728, 0.744, 0.772, 0.796])\n",
        "error_1 = np.array([0.008, 0.009, 0.009, 0.009, 0.008, 0.012, 0.012, 0.010, 0.016, 0.012])\n",
        "voltage_2 = np.array([0.360, 0.730, 0.754, 0.794, 0.832, 0.868, 0.912, 0.948, 0.968, 1.000])\n",
        "error_2 = np.array([0.008, 0.010, 0.009, 0.012, 0.012, 0.012, 0.024, 0.018, 0.014, 0.016])"
      ],
      "metadata": {
        "id": "tnW1HH3Z0o7x"
      },
      "execution_count": 2,
      "outputs": []
    },
    {
      "cell_type": "markdown",
      "source": [
        "Linear model"
      ],
      "metadata": {
        "id": "nS9-KRk3xpLb"
      }
    },
    {
      "cell_type": "code",
      "source": [
        "def linear(x,A,B):\n",
        "  return A*x + B"
      ],
      "metadata": {
        "id": "jZOtyLL22kN4"
      },
      "execution_count": 3,
      "outputs": []
    },
    {
      "cell_type": "markdown",
      "source": [
        "Fit curves of resonances"
      ],
      "metadata": {
        "id": "asFzRgVhxsYY"
      }
    },
    {
      "cell_type": "code",
      "source": [
        "params_1,covariance_1 = scipy.optimize.curve_fit(linear,voltage_1,frequency,sigma=error_1,absolute_sigma=True)\n",
        "params_2,covariance_2 = scipy.optimize.curve_fit(linear,voltage_2,frequency,sigma=error_2,absolute_sigma=True)"
      ],
      "metadata": {
        "id": "gqVf9xK75KV1"
      },
      "execution_count": 4,
      "outputs": []
    },
    {
      "cell_type": "code",
      "source": [
        "params_1"
      ],
      "metadata": {
        "colab": {
          "base_uri": "https://localhost:8080/"
        },
        "id": "tIYWKamm655J",
        "outputId": "939fa957-584b-4de5-b534-c8efb0df0317"
      },
      "execution_count": 5,
      "outputs": [
        {
          "output_type": "execute_result",
          "data": {
            "text/plain": [
              "array([ 0.42530416, -0.15281536])"
            ]
          },
          "metadata": {},
          "execution_count": 5
        }
      ]
    },
    {
      "cell_type": "markdown",
      "source": [
        "Model based on fit parameters"
      ],
      "metadata": {
        "id": "H1HzuHxmx7JX"
      }
    },
    {
      "cell_type": "code",
      "source": [
        "\n",
        "model_1 = linear(voltage_1,*params_1)\n",
        "model_2 = linear(voltage_2,*params_2)"
      ],
      "metadata": {
        "id": "bWpU05Tw51bl"
      },
      "execution_count": 6,
      "outputs": []
    },
    {
      "cell_type": "markdown",
      "source": [
        "Plot of the resonances as function of current"
      ],
      "metadata": {
        "id": "KLZx00Eqx_lv"
      }
    },
    {
      "cell_type": "code",
      "source": [
        "plt.figure()\n",
        "plt.scatter(voltage_1,frequency,marker='o',color='red')\n",
        "plt.scatter(voltage_2,frequency,marker='^',color='red')\n",
        "plt.plot(voltage_1,model_1,color='blue',label='f = {:.2f}x+{:.2f}'.format(params_1[0],params_1[1]))\n",
        "plt.plot(voltage_2,model_2,color='c',label='f = {:.2f}x+{:.2f}'.format(params_2[0],params_2[1]))\n",
        "plt.title('Resonance of Two Isotopes')\n",
        "plt.xlabel('Current (Amps)')\n",
        "plt.ylabel('Frequency (MHz)')\n",
        "plt.legend()\n",
        "plt.savefig('Low field resonance.png')\n",
        "files.download('Low field resonance.png')\n",
        "plt.show()"
      ],
      "metadata": {
        "colab": {
          "base_uri": "https://localhost:8080/",
          "height": 472
        },
        "id": "K_fZ4jH03I0M",
        "outputId": "fe55fc48-c652-40de-9e6d-2dd6b91383cf"
      },
      "execution_count": 20,
      "outputs": [
        {
          "output_type": "display_data",
          "data": {
            "text/plain": [
              "<IPython.core.display.Javascript object>"
            ],
            "application/javascript": [
              "\n",
              "    async function download(id, filename, size) {\n",
              "      if (!google.colab.kernel.accessAllowed) {\n",
              "        return;\n",
              "      }\n",
              "      const div = document.createElement('div');\n",
              "      const label = document.createElement('label');\n",
              "      label.textContent = `Downloading \"${filename}\": `;\n",
              "      div.appendChild(label);\n",
              "      const progress = document.createElement('progress');\n",
              "      progress.max = size;\n",
              "      div.appendChild(progress);\n",
              "      document.body.appendChild(div);\n",
              "\n",
              "      const buffers = [];\n",
              "      let downloaded = 0;\n",
              "\n",
              "      const channel = await google.colab.kernel.comms.open(id);\n",
              "      // Send a message to notify the kernel that we're ready.\n",
              "      channel.send({})\n",
              "\n",
              "      for await (const message of channel.messages) {\n",
              "        // Send a message to notify the kernel that we're ready.\n",
              "        channel.send({})\n",
              "        if (message.buffers) {\n",
              "          for (const buffer of message.buffers) {\n",
              "            buffers.push(buffer);\n",
              "            downloaded += buffer.byteLength;\n",
              "            progress.value = downloaded;\n",
              "          }\n",
              "        }\n",
              "      }\n",
              "      const blob = new Blob(buffers, {type: 'application/binary'});\n",
              "      const a = document.createElement('a');\n",
              "      a.href = window.URL.createObjectURL(blob);\n",
              "      a.download = filename;\n",
              "      div.appendChild(a);\n",
              "      a.click();\n",
              "      div.remove();\n",
              "    }\n",
              "  "
            ]
          },
          "metadata": {}
        },
        {
          "output_type": "display_data",
          "data": {
            "text/plain": [
              "<IPython.core.display.Javascript object>"
            ],
            "application/javascript": [
              "download(\"download_28b08486-84d2-4851-a631-2b829410efd5\", \"Low field resonance.png\", 40305)"
            ]
          },
          "metadata": {}
        },
        {
          "output_type": "display_data",
          "data": {
            "text/plain": [
              "<Figure size 640x480 with 1 Axes>"
            ],
            "image/png": "[encoded data removed]"
          },
          "metadata": {}
        }
      ]
    },
    {
      "cell_type": "markdown",
      "source": [
        "Ratio of the slopes"
      ],
      "metadata": {
        "id": "6WuHP6FAyII9"
      }
    },
    {
      "cell_type": "code",
      "source": [
        "print(params_1[0],'/',params_2[0],'=',params_1[0]/params_2[0])"
      ],
      "metadata": {
        "colab": {
          "base_uri": "https://localhost:8080/"
        },
        "id": "dQOH0NY94fvY",
        "outputId": "7b44bcea-35e5-4c9e-aad4-e015032445aa"
      },
      "execution_count": 8,
      "outputs": [
        {
          "output_type": "stream",
          "name": "stdout",
          "text": [
            "0.4253041586191716 / 0.2851453648642063 = 1.491534532997626\n"
          ]
        }
      ]
    },
    {
      "cell_type": "markdown",
      "source": [
        "Measure of the residual field, based on the center of the zero field resonance"
      ],
      "metadata": {
        "id": "i9jhsfm6yOR6"
      }
    },
    {
      "cell_type": "code",
      "source": [
        "residual = 8.991*10**-3*0.360*11/0.1639\n",
        "print(residual)"
      ],
      "metadata": {
        "colab": {
          "base_uri": "https://localhost:8080/"
        },
        "id": "pS9SuQOa7Md0",
        "outputId": "36e9b232-60de-470f-ca70-d350dd7c751c"
      },
      "execution_count": 15,
      "outputs": [
        {
          "output_type": "stream",
          "name": "stdout",
          "text": [
            "0.21723221476510066\n"
          ]
        }
      ]
    },
    {
      "cell_type": "code",
      "source": [
        "res_error = 8.991*10**-3*11*0.008/0.1639\n",
        "print(res_error)"
      ],
      "metadata": {
        "id": "DM--rlABpd38",
        "outputId": "95c1e695-7b4b-4a40-8213-6a8325317a12",
        "colab": {
          "base_uri": "https://localhost:8080/"
        }
      },
      "execution_count": 16,
      "outputs": [
        {
          "output_type": "stream",
          "name": "stdout",
          "text": [
            "0.00482738255033557\n"
          ]
        }
      ]
    },
    {
      "cell_type": "markdown",
      "source": [
        "Calculating g-factors. Values for magnetic fields obtained from geometry of the coils at 134 kHz "
      ],
      "metadata": {
        "id": "1orwAmjyzL70"
      }
    },
    {
      "cell_type": "code",
      "source": [
        "B1 = 8.991*10**-3*0.672*11/0.1639\n",
        "B2 = 8.991*10**-3*11*0.832/0.1639\n",
        "B1 = B1-residual\n",
        "B2 = B2-residual\n",
        "b_err_1 = 8.991*10**-3*0.008*11/0.1639\n",
        "b_err_2 = 8.991*10**-3*11*0.012/0.1639\n",
        "g_f1 = 0.13406/(B1*1.3996)\n",
        "g_f2 = 0.13406/(B2*1.3996)\n",
        "g_err_1 = np.sqrt((0.13406/(B1*1.3996))**2*b_err_1**2)\n",
        "g_err_2 = np.sqrt((0.13406/(B2*1.3996))**2*b_err_2**2)\n",
        "print(B1,B2)\n",
        "print('g factors are',g_f1,'+/-',g_err_1,'and',g_f2,'+/-',g_err_2)"
      ],
      "metadata": {
        "colab": {
          "base_uri": "https://localhost:8080/"
        },
        "id": "9XKAGgLR9big",
        "outputId": "5738a71f-6966-4c9c-e9d9-7d728e6386df"
      },
      "execution_count": 17,
      "outputs": [
        {
          "output_type": "stream",
          "name": "stdout",
          "text": [
            "0.18826791946308727 0.28481557046979855\n",
            "g factors are 0.5087670280370841 +/- 0.0024560130733323076 and 0.3363036287024795 +/- 0.0024351994032193237\n"
          ]
        }
      ]
    },
    {
      "cell_type": "code",
      "source": [
        "##hypothesis testing for g-factors\n",
        "test_1 = (g_f1-1/2)/g_err_1\n",
        "\n",
        "cdf = stats.norm.cdf(test_1,0,1)\n",
        "\n",
        "print (\"CDF = \",stats.norm.cdf(test_1,0,1))\n",
        "\n",
        "if cdf>0.5:\n",
        "    pvalue_2t = 2*(1-cdf)\n",
        "else :\n",
        "    pvalue_2t=2*(cdf)\n",
        "\n",
        "print (\"two tailed p-value = \",pvalue_2t)\n",
        "\n",
        "test_2 = (g_f2-1/3)/g_err_2\n",
        "\n",
        "cdf = stats.norm.cdf(test_2,0,1)\n",
        "\n",
        "print (\"CDF = \",stats.norm.cdf(test_2,0,1))\n",
        "\n",
        "if cdf>0.5:\n",
        "    pvalue_2t = 2*(1-cdf)\n",
        "else :\n",
        "    pvalue_2t=2*(cdf)\n",
        "\n",
        "print (\"two tailed p-value = \",pvalue_2t)"
      ],
      "metadata": {
        "id": "PC1WbRsPuSO-",
        "outputId": "c1008364-04e2-483a-c306-2b8acf3335b0",
        "colab": {
          "base_uri": "https://localhost:8080/"
        }
      },
      "execution_count": 19,
      "outputs": [
        {
          "output_type": "stream",
          "name": "stdout",
          "text": [
            "CDF =  0.9998212487992877\n",
            "two tailed p-value =  0.0003575024014246253\n",
            "CDF =  0.8887171250107491\n",
            "two tailed p-value =  0.22256574997850187\n"
          ]
        }
      ]
    },
    {
      "cell_type": "code",
      "source": [
        "def mag_field(f,g):\n",
        "  return f/(g*1.3996)"
      ],
      "metadata": {
        "id": "yn1dg_su_vog"
      },
      "execution_count": 22,
      "outputs": []
    },
    {
      "cell_type": "markdown",
      "source": [
        "Obtaining linear relation between sweep field magnitude and current through sweep coils"
      ],
      "metadata": {
        "id": "r-H_cbrKyn8Y"
      }
    },
    {
      "cell_type": "code",
      "source": [
        "sweep_field = mag_field(frequency,g_f1)\n",
        "\n",
        "params_3,covariance_3 = scipy.optimize.curve_fit(linear,voltage_1,sweep_field,sigma=error_1,absolute_sigma=True)\n",
        "\n",
        "sweep_line = linear(voltage_1,*params_3)"
      ],
      "metadata": {
        "id": "9gqh7yz6B55U"
      },
      "execution_count": 23,
      "outputs": []
    },
    {
      "cell_type": "code",
      "source": [
        "plt.figure()\n",
        "plt.plot(voltage_1,sweep_line,color='blue',label = 'y = {:.2f}x+{:.2f}'.format(params_3[0],params_3[1]))\n",
        "plt.scatter(voltage_1,sweep_field,marker='^',color='red')\n",
        "plt.title('Sweep Field Strength as a Function of Current')\n",
        "plt.xlabel('Current (Amps)')\n",
        "plt.ylabel('Field Strength (Gauss)')\n",
        "plt.legend()\n",
        "plt.savefig('sweepfieldcalibration.png')\n",
        "files.download('sweepfieldcalibration.png')\n",
        "plt.show()"
      ],
      "metadata": {
        "colab": {
          "base_uri": "https://localhost:8080/",
          "height": 472
        },
        "id": "EVpIrbghIaWC",
        "outputId": "cb7a550d-ed38-4979-c196-d30e9cfc73fd"
      },
      "execution_count": 32,
      "outputs": [
        {
          "output_type": "display_data",
          "data": {
            "text/plain": [
              "<IPython.core.display.Javascript object>"
            ],
            "application/javascript": [
              "\n",
              "    async function download(id, filename, size) {\n",
              "      if (!google.colab.kernel.accessAllowed) {\n",
              "        return;\n",
              "      }\n",
              "      const div = document.createElement('div');\n",
              "      const label = document.createElement('label');\n",
              "      label.textContent = `Downloading \"${filename}\": `;\n",
              "      div.appendChild(label);\n",
              "      const progress = document.createElement('progress');\n",
              "      progress.max = size;\n",
              "      div.appendChild(progress);\n",
              "      document.body.appendChild(div);\n",
              "\n",
              "      const buffers = [];\n",
              "      let downloaded = 0;\n",
              "\n",
              "      const channel = await google.colab.kernel.comms.open(id);\n",
              "      // Send a message to notify the kernel that we're ready.\n",
              "      channel.send({})\n",
              "\n",
              "      for await (const message of channel.messages) {\n",
              "        // Send a message to notify the kernel that we're ready.\n",
              "        channel.send({})\n",
              "        if (message.buffers) {\n",
              "          for (const buffer of message.buffers) {\n",
              "            buffers.push(buffer);\n",
              "            downloaded += buffer.byteLength;\n",
              "            progress.value = downloaded;\n",
              "          }\n",
              "        }\n",
              "      }\n",
              "      const blob = new Blob(buffers, {type: 'application/binary'});\n",
              "      const a = document.createElement('a');\n",
              "      a.href = window.URL.createObjectURL(blob);\n",
              "      a.download = filename;\n",
              "      div.appendChild(a);\n",
              "      a.click();\n",
              "      div.remove();\n",
              "    }\n",
              "  "
            ]
          },
          "metadata": {}
        },
        {
          "output_type": "display_data",
          "data": {
            "text/plain": [
              "<IPython.core.display.Javascript object>"
            ],
            "application/javascript": [
              "download(\"download_9a36b1fd-868d-49c4-b430-d69d1d3d45b7\", \"sweepfieldcalibration.png\", 30580)"
            ]
          },
          "metadata": {}
        },
        {
          "output_type": "display_data",
          "data": {
            "text/plain": [
              "<Figure size 640x480 with 1 Axes>"
            ],
            "image/png": "[encoded data removed]"
          },
          "metadata": {}
        }
      ]
    },
    {
      "cell_type": "code",
      "source": [
        "print(params_3[0],'+/-',np.sqrt(covariance_3[0,0]))"
      ],
      "metadata": {
        "colab": {
          "base_uri": "https://localhost:8080/"
        },
        "id": "R3zy1rotItnc",
        "outputId": "74ddf997-8909-44fd-b18f-f095fe88abb5"
      },
      "execution_count": 26,
      "outputs": [
        {
          "output_type": "stream",
          "name": "stdout",
          "text": [
            "0.5972783011879983 +/- 0.024442424500887922\n"
          ]
        }
      ]
    },
    {
      "cell_type": "code",
      "source": [
        "chisq = sum((sweep_field-sweep_line)**2/error_1**2)\n",
        "ndf = len(sweep_field)-len(params_3)\n",
        "\n",
        "print('Chi-square, degrees of freedom: ',chisq,ndf)\n",
        "print('p-test value : ',1.-stats.chi2.cdf(chisq,df=ndf))"
      ],
      "metadata": {
        "id": "62_sadrUnFKN",
        "outputId": "6ba42a9b-e263-4d23-ffa1-ecd4d73654d0",
        "colab": {
          "base_uri": "https://localhost:8080/"
        }
      },
      "execution_count": 31,
      "outputs": [
        {
          "output_type": "stream",
          "name": "stdout",
          "text": [
            "Chi-square, degrees of freedom:  0.6486685758297653 8\n",
            "p-test value :  0.9996437987377014\n"
          ]
        }
      ]
    },
    {
      "cell_type": "markdown",
      "source": [
        "Calculating contribution of main field, finding linear relation with current"
      ],
      "metadata": {
        "id": "sOx3bMxQ17cN"
      }
    },
    {
      "cell_type": "code",
      "source": [
        "frequency_2 = np.array([200.11,301.86,403.64,502.74,601.50,706.55,804.59,903.88])\n",
        "sweep_current = np.array([0.664,0.736,0.816,0.776,0.656,0.688,0.856,0.736])\n",
        "main_current = np.array([0.028,0.048,0.068,0.098,0.128,0.152,0.164,0.198])\n",
        "expected_field = mag_field(frequency_2,g_f2)/1000\n",
        "sweep_field = linear(sweep_current,*params_3)\n",
        "main_field = expected_field - sweep_field\n",
        "error_3 = np.ones(np.shape(main_current))*0.012\n"
      ],
      "metadata": {
        "id": "NXoOPYSwJUyQ"
      },
      "execution_count": 34,
      "outputs": []
    },
    {
      "cell_type": "code",
      "source": [
        "print(expected_field)"
      ],
      "metadata": {
        "id": "sJUnHUG76Qj5",
        "outputId": "d32ca9b8-27c9-4c70-9520-49ca7c5149c1",
        "colab": {
          "base_uri": "https://localhost:8080/"
        }
      },
      "execution_count": 35,
      "outputs": [
        {
          "output_type": "stream",
          "name": "stdout",
          "text": [
            "[0.42514131 0.64131305 0.85754854 1.06809026 1.27790963 1.50109236\n",
            " 1.70938207 1.92032745]\n"
          ]
        }
      ]
    },
    {
      "cell_type": "code",
      "source": [
        "params_4, covariance_4 = scipy.optimize.curve_fit(linear,main_current,main_field,sigma=error_3,absolute_sigma=True)"
      ],
      "metadata": {
        "id": "uLemj5lD16ZD"
      },
      "execution_count": 36,
      "outputs": []
    },
    {
      "cell_type": "code",
      "source": [
        "main_line = linear(main_current,*params_4)"
      ],
      "metadata": {
        "id": "LDDxMrQA5QDt"
      },
      "execution_count": 37,
      "outputs": []
    },
    {
      "cell_type": "code",
      "source": [
        "plt.figure()\n",
        "plt.plot(main_current,main_line,color='blue',label = 'y = {:.2f}x'.format(params_4[0],params_4[1]))\n",
        "plt.scatter(main_current,main_field,marker='^',color='red')\n",
        "plt.xlabel('Current (Amps)')\n",
        "plt.ylabel('Field Strength (Gauss)')\n",
        "plt.title('Main Field Strength as a Function of Current')\n",
        "plt.legend()\n",
        "plt.savefig('mainfieldcontribution.png')\n",
        "files.download('mainfieldcontribution.png')\n",
        "plt.show()"
      ],
      "metadata": {
        "id": "tpJDKR995ZG6",
        "outputId": "63fd23c2-e85e-4749-ae65-ea3c96467fb9",
        "colab": {
          "base_uri": "https://localhost:8080/",
          "height": 472
        }
      },
      "execution_count": 43,
      "outputs": [
        {
          "output_type": "display_data",
          "data": {
            "text/plain": [
              "<IPython.core.display.Javascript object>"
            ],
            "application/javascript": [
              "\n",
              "    async function download(id, filename, size) {\n",
              "      if (!google.colab.kernel.accessAllowed) {\n",
              "        return;\n",
              "      }\n",
              "      const div = document.createElement('div');\n",
              "      const label = document.createElement('label');\n",
              "      label.textContent = `Downloading \"${filename}\": `;\n",
              "      div.appendChild(label);\n",
              "      const progress = document.createElement('progress');\n",
              "      progress.max = size;\n",
              "      div.appendChild(progress);\n",
              "      document.body.appendChild(div);\n",
              "\n",
              "      const buffers = [];\n",
              "      let downloaded = 0;\n",
              "\n",
              "      const channel = await google.colab.kernel.comms.open(id);\n",
              "      // Send a message to notify the kernel that we're ready.\n",
              "      channel.send({})\n",
              "\n",
              "      for await (const message of channel.messages) {\n",
              "        // Send a message to notify the kernel that we're ready.\n",
              "        channel.send({})\n",
              "        if (message.buffers) {\n",
              "          for (const buffer of message.buffers) {\n",
              "            buffers.push(buffer);\n",
              "            downloaded += buffer.byteLength;\n",
              "            progress.value = downloaded;\n",
              "          }\n",
              "        }\n",
              "      }\n",
              "      const blob = new Blob(buffers, {type: 'application/binary'});\n",
              "      const a = document.createElement('a');\n",
              "      a.href = window.URL.createObjectURL(blob);\n",
              "      a.download = filename;\n",
              "      div.appendChild(a);\n",
              "      a.click();\n",
              "      div.remove();\n",
              "    }\n",
              "  "
            ]
          },
          "metadata": {}
        },
        {
          "output_type": "display_data",
          "data": {
            "text/plain": [
              "<IPython.core.display.Javascript object>"
            ],
            "application/javascript": [
              "download(\"download_0790b6d6-9617-4597-a91e-97c50bd3580a\", \"mainfieldcontribution.png\", 30589)"
            ]
          },
          "metadata": {}
        },
        {
          "output_type": "display_data",
          "data": {
            "text/plain": [
              "<Figure size 640x480 with 1 Axes>"
            ],
            "image/png": "[encoded data removed]"
          },
          "metadata": {}
        }
      ]
    },
    {
      "cell_type": "code",
      "source": [
        "print(params_4)"
      ],
      "metadata": {
        "id": "mMXbH3om6C33",
        "outputId": "df489a6a-3e0e-4400-caaf-eaa78bb10606",
        "colab": {
          "base_uri": "https://localhost:8080/"
        }
      },
      "execution_count": null,
      "outputs": [
        {
          "output_type": "stream",
          "name": "stdout",
          "text": [
            "[8.57026296e+00 1.10423574e-04]\n"
          ]
        }
      ]
    },
    {
      "cell_type": "code",
      "source": [
        "chisq = sum((main_field-main_line)**2/error_3**2)\n",
        "ndf = len(main_field)-len(params_4)\n",
        "\n",
        "print('Chi-square, degrees of freedom: ',chisq,ndf)\n",
        "print('p-test value : ',1.-stats.chi2.cdf(chisq,df=ndf))"
      ],
      "metadata": {
        "id": "hVSVOS0DpoCP",
        "outputId": "bf1548c9-3098-4ed6-f9b9-af41a3431724",
        "colab": {
          "base_uri": "https://localhost:8080/"
        }
      },
      "execution_count": 40,
      "outputs": [
        {
          "output_type": "stream",
          "name": "stdout",
          "text": [
            "Chi-square, degrees of freedom:  3.739388324383753 6\n",
            "p-test value :  0.7118948414462039\n"
          ]
        }
      ]
    },
    {
      "cell_type": "markdown",
      "source": [
        "### Quadratic Zeeman effect"
      ],
      "metadata": {
        "id": "LFlnfkxN9-d1"
      }
    },
    {
      "cell_type": "markdown",
      "source": [
        "Obtaining total fields for Rb 87 at a frequency of 4.99931 MHz, main field current of 0.8 amps"
      ],
      "metadata": {
        "id": "16FLp2SB-F7i"
      }
    },
    {
      "cell_type": "code",
      "source": [
        "sweep_current_87 = np.array([0.744,0.768,0.784,0.800])\n",
        "error_87 = np.array([0.009,0.009,0.009,0.009])\n",
        "main_field_87 = params_4[0]*0.8\n",
        "sweep_field_87 = linear(sweep_current_87,*params_3)\n",
        "total_field_87 = sweep_field_87 + main_field_87\n",
        "field_err_87 = np.sqrt((0.8*covariance_4[0,0])**2+(sweep_current_87*covariance_3[0,0])**2)\n",
        "print(main_field_87)\n",
        "print(sweep_field_87)\n",
        "print(total_field_87)\n"
      ],
      "metadata": {
        "id": "Aqb7rQqL6GJr",
        "outputId": "2b40ce62-01e4-4ef7-f837-73057d149472",
        "colab": {
          "base_uri": "https://localhost:8080/"
        }
      },
      "execution_count": 56,
      "outputs": [
        {
          "output_type": "stream",
          "name": "stdout",
          "text": [
            "6.856210370163819\n",
            "[0.22976794 0.24410262 0.25365907 0.26321552]\n",
            "[7.08597831 7.10031299 7.10986944 7.11942589]\n"
          ]
        }
      ]
    },
    {
      "cell_type": "code",
      "source": [
        "book_field_87 = np.array([7.113,7.124,7.134,7.145]) #hypothesis testing\n",
        "diff_1 = (book_field_87-total_field_87)\n",
        "cdf = stats.norm.cdf(diff_1,0,1)\n",
        "\n",
        "print (\"CDF = \",cdf)\n",
        "\n",
        "for i in cdf:\n",
        "  if i>0.5:\n",
        "    pvalue_2t = 2*(1-cdf)\n",
        "  else :\n",
        "    pvalue_2t=2*(cdf)\n",
        "\n",
        "print (\"two tailed p-value = \",pvalue_2t)\n",
        "avg_p = sum(pvalue_2t)/4\n",
        "print('average p-value =',avg_p)"
      ],
      "metadata": {
        "id": "a0c_jdjzgkI-",
        "outputId": "d6ff84ea-25dd-4923-83df-7ef515092c97",
        "colab": {
          "base_uri": "https://localhost:8080/"
        }
      },
      "execution_count": 55,
      "outputs": [
        {
          "output_type": "stream",
          "name": "stdout",
          "text": [
            "CDF =  [0.51077878 0.50944887 0.50962577 0.51020148]\n",
            "two tailed p-value =  [0.97844243 0.98110226 0.98074847 0.97959704]\n",
            "average p-value = 0.9799725503213326\n"
          ]
        }
      ]
    },
    {
      "cell_type": "markdown",
      "source": [
        "Obtaining total fields for Rb 85 at a frequency of 3.34 MHz, main field current of 0.8 amps"
      ],
      "metadata": {
        "id": "oRmq2PDYyvXj"
      }
    },
    {
      "cell_type": "code",
      "source": [
        "sweep_current_85 = np.array([0.736,0.768,0.784,0.816,0.848,0.864])\n",
        "sweep_field_85 = linear(sweep_current_85,*params_3)\n",
        "total_field_85 = sweep_field_85 + main_field_87\n",
        "field_err_85 = np.sqrt((covariance_4[0,0])**2+(covariance_3[0,0])**2)\n",
        "print(sweep_field_85)\n",
        "print(total_field_85)"
      ],
      "metadata": {
        "id": "jrb8UmtFAHFJ",
        "outputId": "6eef63c0-42f7-455b-c324-63a19126a599",
        "colab": {
          "base_uri": "https://localhost:8080/"
        }
      },
      "execution_count": 57,
      "outputs": [
        {
          "output_type": "stream",
          "name": "stdout",
          "text": [
            "[0.22498971 0.24410262 0.25365907 0.27277197 0.29188488 0.30144133]\n",
            "[7.08120008 7.10031299 7.10986944 7.12898234 7.14809525 7.1576517 ]\n"
          ]
        }
      ]
    },
    {
      "cell_type": "code",
      "source": [
        "book_field_85 = np.array([7.115,7.130,7.146,7.162,7.178,7.193]) #hypothesis testing\n",
        "diff_2 = book_field_85-total_field_85\n",
        "cdf = stats.norm.cdf(diff_2,0,1)\n",
        "\n",
        "print (\"CDF = \",cdf)\n",
        "\n",
        "for i in cdf:\n",
        "  if i>0.5:\n",
        "    pvalue_2t = 2*(1-cdf)\n",
        "  else :\n",
        "    pvalue_2t=2*(cdf)\n",
        "\n",
        "print (\"two tailed p-value = \",pvalue_2t)\n",
        "avg_p=sum(pvalue_2t)/6\n",
        "print('average p-value =',avg_p)"
      ],
      "metadata": {
        "id": "8Ez6Bbv10dCj",
        "outputId": "f7e18471-45f2-441d-e176-e8bbb9b4702d",
        "colab": {
          "base_uri": "https://localhost:8080/"
        }
      },
      "execution_count": null,
      "outputs": [
        {
          "output_type": "stream",
          "name": "stdout",
          "text": [
            "CDF =  [0.51348165 0.51184167 0.51441087 0.51316975 0.51192849 0.51409899]\n",
            "two tailed p-value =  [0.9730367  0.97631667 0.97117825 0.97366051 0.97614302 0.97180201]\n",
            "average p-value = 0.9736895270449802\n"
          ]
        }
      ]
    },
    {
      "cell_type": "code",
      "source": [],
      "metadata": {
        "id": "f-5Cpe-nlzv8"
      },
      "execution_count": null,
      "outputs": []
    },
    {
      "cell_type": "markdown",
      "source": [
        "### Transient Effects"
      ],
      "metadata": {
        "id": "tqmkI0Zr8lXl"
      }
    },
    {
      "cell_type": "code",
      "source": [
        "amplitude = np.array([0.34, 0.38, 0.5, 0.74])\n",
        "period = np.array([6,3.6,3,2.2])\n",
        "p_error = np.array([0.2,0.4,0.2,0.2])"
      ],
      "metadata": {
        "id": "KWiH4UNt8nKR"
      },
      "execution_count": 3,
      "outputs": []
    },
    {
      "cell_type": "code",
      "source": [
        "def inverse(x,A,B):\n",
        "  return A/x+B"
      ],
      "metadata": {
        "id": "c8K-E3KKLi_d"
      },
      "execution_count": 4,
      "outputs": []
    },
    {
      "cell_type": "code",
      "source": [
        "params,covariance = scipy.optimize.curve_fit(inverse,amplitude,period,sigma=p_error,absolute_sigma=True)"
      ],
      "metadata": {
        "id": "kzGpZdm0L2cB"
      },
      "execution_count": 5,
      "outputs": []
    },
    {
      "cell_type": "code",
      "source": [
        "fit_line = inverse(np.linspace(0.3,0.8,10),*params)"
      ],
      "metadata": {
        "id": "9F2FunGoMZ43"
      },
      "execution_count": 13,
      "outputs": []
    },
    {
      "cell_type": "code",
      "source": [
        "plt.figure()\n",
        "plt.scatter(amplitude,period,color='red',marker='^')\n",
        "plt.plot(np.linspace(0.3,0.8,10),fit_line,color='blue',label='y={:.2f}/x+{:.2f}'.format(params[0],params[1]))\n",
        "plt.legend()\n",
        "plt.title('Period of Ringing as a function of RF Amplitude')\n",
        "plt.xlabel('RF Amplitude (V)')\n",
        "plt.ylabel('Period of Ringing (ms)')\n",
        "plt.savefig('ringing.png')\n",
        "files.download('ringing.png')\n",
        "plt.show()"
      ],
      "metadata": {
        "id": "LxjywCM3ML2m",
        "outputId": "755ee4f1-57a1-489b-9c5c-ea97053ed754",
        "colab": {
          "base_uri": "https://localhost:8080/",
          "height": 472
        }
      },
      "execution_count": 16,
      "outputs": [
        {
          "output_type": "display_data",
          "data": {
            "text/plain": [
              "<IPython.core.display.Javascript object>"
            ],
            "application/javascript": [
              "\n",
              "    async function download(id, filename, size) {\n",
              "      if (!google.colab.kernel.accessAllowed) {\n",
              "        return;\n",
              "      }\n",
              "      const div = document.createElement('div');\n",
              "      const label = document.createElement('label');\n",
              "      label.textContent = `Downloading \"${filename}\": `;\n",
              "      div.appendChild(label);\n",
              "      const progress = document.createElement('progress');\n",
              "      progress.max = size;\n",
              "      div.appendChild(progress);\n",
              "      document.body.appendChild(div);\n",
              "\n",
              "      const buffers = [];\n",
              "      let downloaded = 0;\n",
              "\n",
              "      const channel = await google.colab.kernel.comms.open(id);\n",
              "      // Send a message to notify the kernel that we're ready.\n",
              "      channel.send({})\n",
              "\n",
              "      for await (const message of channel.messages) {\n",
              "        // Send a message to notify the kernel that we're ready.\n",
              "        channel.send({})\n",
              "        if (message.buffers) {\n",
              "          for (const buffer of message.buffers) {\n",
              "            buffers.push(buffer);\n",
              "            downloaded += buffer.byteLength;\n",
              "            progress.value = downloaded;\n",
              "          }\n",
              "        }\n",
              "      }\n",
              "      const blob = new Blob(buffers, {type: 'application/binary'});\n",
              "      const a = document.createElement('a');\n",
              "      a.href = window.URL.createObjectURL(blob);\n",
              "      a.download = filename;\n",
              "      div.appendChild(a);\n",
              "      a.click();\n",
              "      div.remove();\n",
              "    }\n",
              "  "
            ]
          },
          "metadata": {}
        },
        {
          "output_type": "display_data",
          "data": {
            "text/plain": [
              "<IPython.core.display.Javascript object>"
            ],
            "application/javascript": [
              "download(\"download_25c47bd0-302c-40b3-a2fe-d0a01f73d313\", \"ringing.png\", 28177)"
            ]
          },
          "metadata": {}
        },
        {
          "output_type": "display_data",
          "data": {
            "text/plain": [
              "<Figure size 640x480 with 1 Axes>"
            ],
            "image/png": "[encoded data removed]"
          },
          "metadata": {}
        }
      ]
    },
    {
      "cell_type": "code",
      "source": [
        "#goodness of fit\n",
        "fit_data = inverse(amplitude,*params)\n",
        "chisq = sum((period-fit_data)**2/p_error**2)\n",
        "ndf = 2\n",
        "\n",
        "print('Chi-square, degrees of freedom',chisq,ndf,)\n",
        "print('p-test value : ',1.-stats.chi2.cdf(chisq,df=ndf))\n"
      ],
      "metadata": {
        "id": "EqoAOvy4MtNm",
        "outputId": "d482f8f1-c10e-4942-ea0c-ea79f2d88b2b",
        "colab": {
          "base_uri": "https://localhost:8080/"
        }
      },
      "execution_count": 19,
      "outputs": [
        {
          "output_type": "stream",
          "name": "stdout",
          "text": [
            "Chi-square, degrees of freedom 20.66440532317292 2\n",
            "p-test value :  3.2567273258954366e-05\n"
          ]
        }
      ]
    },
    {
      "cell_type": "code",
      "source": [],
      "metadata": {
        "id": "pNyUtwK6O2UQ"
      },
      "execution_count": null,
      "outputs": []
    }
  ]
}